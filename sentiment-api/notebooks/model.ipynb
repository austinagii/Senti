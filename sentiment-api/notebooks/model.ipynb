{
 "cells": [
  {
   "cell_type": "code",
   "execution_count": 5,
   "metadata": {},
   "outputs": [],
   "source": [
    "from collections.abc import Generator\n",
    "import json\n",
    "\n",
    "import datasets\n",
    "import torch\n",
    "from torch.optim import SGD\n",
    "\n",
    "from sentpy.preprocessing import Tokenizer, to_batches\n",
    "from sentpy.model import Model"
   ]
  },
  {
   "cell_type": "code",
   "execution_count": 6,
   "metadata": {},
   "outputs": [],
   "source": [
    "batch_size = 32\n",
    "n_epochs = 30\n",
    "n_classes = 6"
   ]
  },
  {
   "cell_type": "code",
   "execution_count": 7,
   "metadata": {},
   "outputs": [
    {
     "data": {
      "text/plain": [
       "DatasetDict({\n",
       "    train: Dataset({\n",
       "        features: ['text', 'label'],\n",
       "        num_rows: 16000\n",
       "    })\n",
       "    validation: Dataset({\n",
       "        features: ['text', 'label'],\n",
       "        num_rows: 2000\n",
       "    })\n",
       "    test: Dataset({\n",
       "        features: ['text', 'label'],\n",
       "        num_rows: 2000\n",
       "    })\n",
       "})"
      ]
     },
     "execution_count": 7,
     "metadata": {},
     "output_type": "execute_result"
    }
   ],
   "source": [
    "dataset = datasets.load_dataset(\"emotion\")\n",
    "dataset"
   ]
  },
  {
   "cell_type": "code",
   "execution_count": 8,
   "metadata": {},
   "outputs": [],
   "source": [
    "emotion_by_label = {\n",
    "    0: 'sadness',\n",
    "    1: 'joy',\n",
    "    2: 'love',\n",
    "    3: 'anger',\n",
    "    4: 'fear',\n",
    "    5: 'surprise'\n",
    "}"
   ]
  },
  {
   "cell_type": "code",
   "execution_count": 9,
   "metadata": {},
   "outputs": [],
   "source": [
    "tokenizer = Tokenizer(dataset['train'])"
   ]
  },
  {
   "cell_type": "code",
   "execution_count": 11,
   "metadata": {},
   "outputs": [
    {
     "name": "stdout",
     "output_type": "stream",
     "text": [
      "Epoch 0 loss: 1.672073245048523\n",
      "Epoch 1 loss: 1.6586058139801025\n",
      "Epoch 2 loss: 1.6344685554504395\n",
      "Epoch 3 loss: 1.6057218313217163\n",
      "Epoch 4 loss: 1.5735300779342651\n",
      "Epoch 5 loss: 1.5379071235656738\n",
      "Epoch 6 loss: 1.498704433441162\n",
      "Epoch 7 loss: 1.4557744264602661\n",
      "Epoch 8 loss: 1.4090155363082886\n",
      "Epoch 9 loss: 1.358461856842041\n",
      "Epoch 10 loss: 1.304365873336792\n",
      "Epoch 11 loss: 1.2472327947616577\n",
      "Epoch 12 loss: 1.187814712524414\n",
      "Epoch 13 loss: 1.127051591873169\n",
      "Epoch 14 loss: 1.0659592151641846\n",
      "Epoch 15 loss: 1.0055047273635864\n",
      "Epoch 16 loss: 0.9465253949165344\n",
      "Epoch 17 loss: 0.889686107635498\n",
      "Epoch 18 loss: 0.8354673385620117\n",
      "Epoch 19 loss: 0.7841731905937195\n",
      "Epoch 20 loss: 0.7359521985054016\n",
      "Epoch 21 loss: 0.6908309459686279\n",
      "Epoch 22 loss: 0.6487506031990051\n",
      "Epoch 23 loss: 0.6095999479293823\n",
      "Epoch 24 loss: 0.5732433199882507\n",
      "Epoch 25 loss: 0.5395379662513733\n",
      "Epoch 26 loss: 0.5083451867103577\n",
      "Epoch 27 loss: 0.4795321524143219\n",
      "Epoch 28 loss: 0.45297083258628845\n",
      "Epoch 29 loss: 0.4285338819026947\n"
     ]
    }
   ],
   "source": [
    "\n",
    "model = Model(len(tokenizer.vocab), n_classes)\n",
    "optimizer = SGD(model.parameters(), lr=0.01)\n",
    "\n",
    "for epoch in range(n_epochs):\n",
    "    for batch in to_batches(batch_size, dataset['train'], tokenizer):\n",
    "        optimizer.zero_grad()\n",
    "        loss = torch.nn.functional.cross_entropy(model(batch[0]), batch[1])\n",
    "        loss.backward()\n",
    "        optimizer.step()\n",
    "    print(f\"Epoch {epoch} loss: {loss}\")"
   ]
  },
  {
   "cell_type": "code",
   "execution_count": 13,
   "metadata": {},
   "outputs": [
    {
     "name": "stdout",
     "output_type": "stream",
     "text": [
      "Accuracy: 0.8640000224113464\n"
     ]
    }
   ],
   "source": [
    "with torch.no_grad():\n",
    "    n_correct = 0\n",
    "    for batch in to_batches(batch_size, dataset['validation'], tokenizer):\n",
    "        predictions = model(batch[0])\n",
    "        n_correct += (predictions.argmax(dim=1) == batch[1]).sum()\n",
    "    print(f\"Accuracy: {n_correct / len(dataset['validation'])}\")"
   ]
  },
  {
   "cell_type": "code",
   "execution_count": 15,
   "metadata": {},
   "outputs": [
    {
     "name": "stdout",
     "output_type": "stream",
     "text": [
      "Accuracy: 0.8700000047683716\n"
     ]
    }
   ],
   "source": [
    "with torch.no_grad():\n",
    "    n_correct = 0\n",
    "    for batch in to_batches(batch_size, dataset['test'], tokenizer):\n",
    "        predictions = model(batch[0])\n",
    "        n_correct += (predictions.argmax(dim=1) == batch[1]).sum()\n",
    "    print(f\"Accuracy: {n_correct / len(dataset['test'])}\")"
   ]
  },
  {
   "cell_type": "code",
   "execution_count": 16,
   "metadata": {},
   "outputs": [],
   "source": [
    "def predict_emotion(document: str) -> str:    \n",
    "    tokens = tokenizer.tokenize(document)\n",
    "    token_tensor = torch.zeros((1, tokenizer.vocab_size))\n",
    "    token_tensor[:, tokens] = 1\n",
    "    return emotion_by_label[model(token_tensor).argmax(dim=1).item()]"
   ]
  },
  {
   "cell_type": "code",
   "execution_count": 17,
   "metadata": {},
   "outputs": [
    {
     "name": "stdout",
     "output_type": "stream",
     "text": [
      "joy\n",
      "joy\n",
      "anger\n",
      "sadness\n",
      "joy\n",
      "fear\n"
     ]
    }
   ],
   "source": [
    "print(predict_emotion(\"That's too much\"))\n",
    "print(predict_emotion(\"I love you\"))\n",
    "print(predict_emotion(\"I hate you\"))\n",
    "print(predict_emotion(\"I'm sad\"))\n",
    "print(predict_emotion(\"I'm happy\"))\n",
    "print(predict_emotion(\"I'm scared\"))"
   ]
  },
  {
   "cell_type": "code",
   "execution_count": null,
   "metadata": {},
   "outputs": [],
   "source": []
  }
 ],
 "metadata": {
  "kernelspec": {
   "display_name": "Python 3 (ipykernel)",
   "language": "python",
   "name": "python3"
  },
  "language_info": {
   "codemirror_mode": {
    "name": "ipython",
    "version": 3
   },
   "file_extension": ".py",
   "mimetype": "text/x-python",
   "name": "python",
   "nbconvert_exporter": "python",
   "pygments_lexer": "ipython3",
   "version": "3.10.9"
  }
 },
 "nbformat": 4,
 "nbformat_minor": 2
}
