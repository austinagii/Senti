{
 "cells": [
  {
   "cell_type": "code",
   "execution_count": 23,
   "metadata": {},
   "outputs": [],
   "source": [
    "from collections.abc import Generator\n",
    "import json\n",
    "\n",
    "import datasets\n",
    "import torch\n",
    "from torch.optim import SGD"
   ]
  },
  {
   "cell_type": "code",
   "execution_count": 2,
   "metadata": {},
   "outputs": [],
   "source": [
    "batch_size = 32\n",
    "n_epochs = 30\n",
    "n_classes = 6"
   ]
  },
  {
   "cell_type": "code",
   "execution_count": 3,
   "metadata": {},
   "outputs": [
    {
     "data": {
      "text/plain": [
       "DatasetDict({\n",
       "    train: Dataset({\n",
       "        features: ['text', 'label'],\n",
       "        num_rows: 16000\n",
       "    })\n",
       "    validation: Dataset({\n",
       "        features: ['text', 'label'],\n",
       "        num_rows: 2000\n",
       "    })\n",
       "    test: Dataset({\n",
       "        features: ['text', 'label'],\n",
       "        num_rows: 2000\n",
       "    })\n",
       "})"
      ]
     },
     "execution_count": 3,
     "metadata": {},
     "output_type": "execute_result"
    }
   ],
   "source": [
    "dataset = datasets.load_dataset(\"emotion\")\n",
    "dataset"
   ]
  },
  {
   "cell_type": "code",
   "execution_count": 4,
   "metadata": {},
   "outputs": [],
   "source": [
    "emotion_by_label = {\n",
    "    0: 'sadness',\n",
    "    1: 'joy',\n",
    "    2: 'love',\n",
    "    3: 'anger',\n",
    "    4: 'fear',\n",
    "    5: 'surprise'\n",
    "}"
   ]
  },
  {
   "cell_type": "code",
   "execution_count": 5,
   "metadata": {},
   "outputs": [],
   "source": [
    "class Tokenizer:\n",
    "    def __init__(self, dataset: datasets.Dataset):\n",
    "        # Get all unique words in the dataset\n",
    "        self.vocab = set(['UNK']) | set((word for document in dataset for word in document['text'].split()))\n",
    "        self.vocab_size = len(self.vocab)\n",
    "        self.id_by_word = {word: id for id, word in enumerate(self.vocab)}\n",
    "\n",
    "    def tokenize(self, document: str) -> list[int]:\n",
    "        return [self.id_by_word[(word if word in self.vocab else 'UNK')] for word in document.split()]"
   ]
  },
  {
   "cell_type": "code",
   "execution_count": 6,
   "metadata": {},
   "outputs": [],
   "source": [
    "\n",
    "tokenizer = Tokenizer(dataset['train'])\n",
    "\n",
    "def to_batches(\n",
    "    dataset: datasets.Dataset) -> Generator[tuple[torch.Tensor, torch.Tensor], None, None]:\n",
    "    for i in range(0, len(dataset), batch_size):\n",
    "        batch = dataset[i:i+batch_size]\n",
    "        if len(batch['text']) < batch_size:\n",
    "            continue\n",
    "        labels = torch.tensor(batch['label'], dtype=torch.long)\n",
    "        bows = torch.zeros((batch_size, tokenizer.vocab_size))\n",
    "        for j, document in enumerate(batch['text']):\n",
    "            bows[j, tokenizer.tokenize(document)] = 1\n",
    "        yield bows, labels"
   ]
  },
  {
   "cell_type": "code",
   "execution_count": 7,
   "metadata": {},
   "outputs": [],
   "source": [
    "class Model(torch.nn.Module):\n",
    "    def __init__(self, vocab_size: int, n_classes: int):\n",
    "        super().__init__()\n",
    "        self.linear = torch.nn.Linear(vocab_size, 20_000)\n",
    "        self.linear2 = torch.nn.Linear(20_000, n_classes)\n",
    "\n",
    "    def forward(self, x: torch.Tensor) -> torch.Tensor:\n",
    "        x = self.linear(x)\n",
    "        return self.linear2(x)"
   ]
  },
  {
   "cell_type": "code",
   "execution_count": 8,
   "metadata": {},
   "outputs": [
    {
     "name": "stdout",
     "output_type": "stream",
     "text": [
      "Epoch 0 loss: 1.673292875289917\n",
      "Epoch 1 loss: 1.6597373485565186\n",
      "Epoch 2 loss: 1.6354295015335083\n",
      "Epoch 3 loss: 1.6065807342529297\n",
      "Epoch 4 loss: 1.5743558406829834\n",
      "Epoch 5 loss: 1.5387519598007202\n",
      "Epoch 6 loss: 1.4996137619018555\n",
      "Epoch 7 loss: 1.456798791885376\n",
      "Epoch 8 loss: 1.4102058410644531\n",
      "Epoch 9 loss: 1.3598625659942627\n",
      "Epoch 10 loss: 1.3060048818588257\n",
      "Epoch 11 loss: 1.249114990234375\n",
      "Epoch 12 loss: 1.189920425415039\n",
      "Epoch 13 loss: 1.1293352842330933\n",
      "Epoch 14 loss: 1.0683534145355225\n",
      "Epoch 15 loss: 1.0079330205917358\n",
      "Epoch 16 loss: 0.9489132165908813\n",
      "Epoch 17 loss: 0.8919705748558044\n",
      "Epoch 18 loss: 0.8375970125198364\n",
      "Epoch 19 loss: 0.7861124277114868\n",
      "Epoch 20 loss: 0.7376770973205566\n",
      "Epoch 21 loss: 0.6923283338546753\n",
      "Epoch 22 loss: 0.6500178575515747\n",
      "Epoch 23 loss: 0.6106443405151367\n",
      "Epoch 24 loss: 0.5740801095962524\n",
      "Epoch 25 loss: 0.5401903390884399\n",
      "Epoch 26 loss: 0.5088407397270203\n",
      "Epoch 27 loss: 0.47990018129348755\n",
      "Epoch 28 loss: 0.453243225812912\n",
      "Epoch 29 loss: 0.42873772978782654\n"
     ]
    }
   ],
   "source": [
    "\n",
    "model = Model(len(tokenizer.vocab), n_classes)\n",
    "optimizer = SGD(model.parameters(), lr=0.01)\n",
    "\n",
    "for epoch in range(n_epochs):\n",
    "    for batch in to_batches(dataset['train']):\n",
    "        optimizer.zero_grad()\n",
    "        loss = torch.nn.functional.cross_entropy(model(batch[0]), batch[1])\n",
    "        loss.backward()\n",
    "        optimizer.step()\n",
    "    print(f\"Epoch {epoch} loss: {loss}\")"
   ]
  },
  {
   "cell_type": "code",
   "execution_count": 13,
   "metadata": {},
   "outputs": [
    {
     "name": "stdout",
     "output_type": "stream",
     "text": [
      "Accuracy: 0.8629999756813049\n"
     ]
    }
   ],
   "source": [
    "with torch.no_grad():\n",
    "    n_correct = 0\n",
    "    for batch in to_batches(dataset['validation']):\n",
    "        predictions = model(batch[0])\n",
    "        n_correct += (predictions.argmax(dim=1) == batch[1]).sum()\n",
    "    print(f\"Accuracy: {n_correct / len(dataset['validation'])}\")"
   ]
  },
  {
   "cell_type": "code",
   "execution_count": 14,
   "metadata": {},
   "outputs": [
    {
     "name": "stdout",
     "output_type": "stream",
     "text": [
      "Accuracy: 0.8669999837875366\n"
     ]
    }
   ],
   "source": [
    "with torch.no_grad():\n",
    "    n_correct = 0\n",
    "    for batch in to_batches(dataset['test']):\n",
    "        predictions = model(batch[0])\n",
    "        n_correct += (predictions.argmax(dim=1) == batch[1]).sum()\n",
    "    print(f\"Accuracy: {n_correct / len(dataset['test'])}\")"
   ]
  },
  {
   "cell_type": "code",
   "execution_count": 141,
   "metadata": {},
   "outputs": [
    {
     "data": {
      "text/plain": [
       "tensor([[0., 0., 0.,  ..., 0., 0., 0.]])"
      ]
     },
     "execution_count": 141,
     "metadata": {},
     "output_type": "execute_result"
    }
   ],
   "source": []
  },
  {
   "cell_type": "code",
   "execution_count": 147,
   "metadata": {},
   "outputs": [],
   "source": []
  },
  {
   "cell_type": "code",
   "execution_count": 11,
   "metadata": {},
   "outputs": [],
   "source": [
    "def predict_emotion(document: str) -> str:    \n",
    "    tokens = tokenizer.tokenize(document)\n",
    "    token_tensor = torch.zeros((1, tokenizer.vocab_size))\n",
    "    token_tensor[:, tokens] = 1\n",
    "    return emotion_by_label[model(token_tensor).argmax(dim=1).item()]"
   ]
  },
  {
   "cell_type": "code",
   "execution_count": 16,
   "metadata": {},
   "outputs": [
    {
     "data": {
      "text/plain": [
       "'joy'"
      ]
     },
     "execution_count": 16,
     "metadata": {},
     "output_type": "execute_result"
    }
   ],
   "source": [
    "predict_emotion(\"That's too much\")"
   ]
  },
  {
   "cell_type": "code",
   "execution_count": 21,
   "metadata": {},
   "outputs": [
    {
     "data": {
      "text/plain": [
       "15213"
      ]
     },
     "execution_count": 21,
     "metadata": {},
     "output_type": "execute_result"
    }
   ],
   "source": [
    "tokenizer.vocab_size"
   ]
  },
  {
   "cell_type": "code",
   "execution_count": 24,
   "metadata": {},
   "outputs": [],
   "source": [
    "\n",
    "with open('/Users/kadeem/Spaces/Projects/Senti/senti-core/data/vocab.json', 'w') as f:\n",
    "    json.dump(tokenizer.id_by_word, f)\n",
    "\n"
   ]
  },
  {
   "cell_type": "code",
   "execution_count": 28,
   "metadata": {},
   "outputs": [
    {
     "data": {
      "text/plain": [
       "'anger'"
      ]
     },
     "execution_count": 28,
     "metadata": {},
     "output_type": "execute_result"
    }
   ],
   "source": [
    "predict_emotion(\"shut up\")"
   ]
  },
  {
   "cell_type": "code",
   "execution_count": null,
   "metadata": {},
   "outputs": [],
   "source": []
  }
 ],
 "metadata": {
  "kernelspec": {
   "display_name": "Python 3 (ipykernel)",
   "language": "python",
   "name": "python3"
  },
  "language_info": {
   "codemirror_mode": {
    "name": "ipython",
    "version": 3
   },
   "file_extension": ".py",
   "mimetype": "text/x-python",
   "name": "python",
   "nbconvert_exporter": "python",
   "pygments_lexer": "ipython3",
   "version": "3.10.11"
  }
 },
 "nbformat": 4,
 "nbformat_minor": 2
}
